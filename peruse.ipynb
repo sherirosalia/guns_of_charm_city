{
 "cells": [
  {
   "cell_type": "code",
   "execution_count": 84,
   "source": [
    "# %pip install arcgis"
   ],
   "outputs": [],
   "metadata": {}
  },
  {
   "cell_type": "code",
   "execution_count": 85,
   "source": [
    "import pandas as pd\n",
    "import numpy as np\n",
    "import sys, os\n",
    "from arcgis.features import GeoAccessor\n",
    "import datetime\n",
    "from collections import Counter"
   ],
   "outputs": [],
   "metadata": {}
  },
  {
   "cell_type": "code",
   "execution_count": 86,
   "source": [
    "# opening_date = pd.to_datetime(opening_date).date()\n",
    "# print(opening_date) "
   ],
   "outputs": [],
   "metadata": {}
  },
  {
   "cell_type": "code",
   "execution_count": 87,
   "source": [
    "pd.set_option('display.max_columns', None)\n",
    "pd.set_option('display.expand_frame_repr', False)\n",
    "pd.set_option('max_colwidth', None)"
   ],
   "outputs": [],
   "metadata": {}
  },
  {
   "cell_type": "code",
   "execution_count": 88,
   "source": [
    "# pd.set_option('display.max_columns', None)\n",
    "# pd.set_option('display.expand_frame_repr', False)\n",
    "# pd.set_option('max_colwidth', -1)"
   ],
   "outputs": [],
   "metadata": {}
  },
  {
   "cell_type": "code",
   "execution_count": 89,
   "source": [
    "type_dict = {\n",
    "    'X': 'float32',\n",
    "    'Y': 'float32',\n",
    "    'RowID': 'int',\n",
    "    'City': 'str',\n",
    "    'CaseNumber':'str',\n",
    "    'Post': 'str',\n",
    "    'ZipCode': 'str'\n",
    "    }"
   ],
   "outputs": [],
   "metadata": {}
  },
  {
   "cell_type": "code",
   "execution_count": 90,
   "source": [
    "df=pd.read_csv('GunOffenders.csv', dtype=type_dict,)\n",
    "# df.sample(10)\n",
    "df.sample()"
   ],
   "outputs": [
    {
     "output_type": "execute_result",
     "data": {
      "text/html": [
       "<div>\n",
       "<style scoped>\n",
       "    .dataframe tbody tr th:only-of-type {\n",
       "        vertical-align: middle;\n",
       "    }\n",
       "\n",
       "    .dataframe tbody tr th {\n",
       "        vertical-align: top;\n",
       "    }\n",
       "\n",
       "    .dataframe thead th {\n",
       "        text-align: right;\n",
       "    }\n",
       "</style>\n",
       "<table border=\"1\" class=\"dataframe\">\n",
       "  <thead>\n",
       "    <tr style=\"text-align: right;\">\n",
       "      <th></th>\n",
       "      <th>X</th>\n",
       "      <th>Y</th>\n",
       "      <th>RowID</th>\n",
       "      <th>CaseNumber</th>\n",
       "      <th>CreatedDate</th>\n",
       "      <th>ModifiedDate</th>\n",
       "      <th>LastName</th>\n",
       "      <th>FirstName</th>\n",
       "      <th>MiddleName</th>\n",
       "      <th>DateOfBirth</th>\n",
       "      <th>Gender</th>\n",
       "      <th>Race</th>\n",
       "      <th>FullAddress</th>\n",
       "      <th>City</th>\n",
       "      <th>State</th>\n",
       "      <th>ZipCode</th>\n",
       "      <th>District</th>\n",
       "      <th>Post</th>\n",
       "      <th>Neighborhood</th>\n",
       "      <th>Latitude</th>\n",
       "      <th>Longitude</th>\n",
       "      <th>GeoLocation</th>\n",
       "      <th>Shape</th>\n",
       "    </tr>\n",
       "  </thead>\n",
       "  <tbody>\n",
       "    <tr>\n",
       "      <th>1113</th>\n",
       "      <td>1425030.25</td>\n",
       "      <td>593380.4375</td>\n",
       "      <td>1114</td>\n",
       "      <td>19-0310</td>\n",
       "      <td>2019/05/29 00:00:00+00</td>\n",
       "      <td>2021/08/11 00:00:00+00</td>\n",
       "      <td>Jackson</td>\n",
       "      <td>Brandon</td>\n",
       "      <td>NaN</td>\n",
       "      <td>1995/07/28 00:00:00+00</td>\n",
       "      <td>Male</td>\n",
       "      <td>Black</td>\n",
       "      <td>404 Aisquith St</td>\n",
       "      <td>Baltimore</td>\n",
       "      <td>Md</td>\n",
       "      <td>21202</td>\n",
       "      <td>Eastern</td>\n",
       "      <td>324</td>\n",
       "      <td>Oldtown</td>\n",
       "      <td>39.2953</td>\n",
       "      <td>-76.6018</td>\n",
       "      <td>(39.2953,-76.6018)</td>\n",
       "      <td>NaN</td>\n",
       "    </tr>\n",
       "  </tbody>\n",
       "</table>\n",
       "</div>"
      ],
      "text/plain": [
       "               X            Y  RowID CaseNumber             CreatedDate            ModifiedDate LastName FirstName MiddleName             DateOfBirth Gender   Race      FullAddress       City State ZipCode District Post Neighborhood  Latitude  Longitude         GeoLocation  Shape\n",
       "1113  1425030.25  593380.4375   1114    19-0310  2019/05/29 00:00:00+00  2021/08/11 00:00:00+00  Jackson   Brandon        NaN  1995/07/28 00:00:00+00   Male  Black  404 Aisquith St  Baltimore    Md   21202  Eastern  324      Oldtown   39.2953   -76.6018  (39.2953,-76.6018)    NaN"
      ]
     },
     "metadata": {},
     "execution_count": 90
    }
   ],
   "metadata": {}
  },
  {
   "cell_type": "code",
   "execution_count": 91,
   "source": [
    "df['DateOfBirth'] = df['DateOfBirth'].str.split(' ', expand=True)"
   ],
   "outputs": [],
   "metadata": {}
  },
  {
   "cell_type": "code",
   "execution_count": 92,
   "source": [
    "df['CreatedDate'] = df['CreatedDate'].str.split(' ', expand=True)"
   ],
   "outputs": [],
   "metadata": {}
  },
  {
   "cell_type": "code",
   "execution_count": 93,
   "source": [
    "df['ModifiedDate'] = df['ModifiedDate'].str.split(' ', expand=True)"
   ],
   "outputs": [],
   "metadata": {}
  },
  {
   "cell_type": "code",
   "execution_count": 94,
   "source": [
    "df['ModifiedDate'] = pd.to_datetime(df['ModifiedDate'], errors='coerce')\n",
    "df['CreatedDate'] = pd.to_datetime(df['CreatedDate'], errors='coerce')\n",
    "df['DateOfBirth'] = pd.to_datetime(df['DateOfBirth'], errors='coerce')\n"
   ],
   "outputs": [],
   "metadata": {}
  },
  {
   "cell_type": "code",
   "execution_count": 95,
   "source": [
    "df.sample()"
   ],
   "outputs": [
    {
     "output_type": "execute_result",
     "data": {
      "text/html": [
       "<div>\n",
       "<style scoped>\n",
       "    .dataframe tbody tr th:only-of-type {\n",
       "        vertical-align: middle;\n",
       "    }\n",
       "\n",
       "    .dataframe tbody tr th {\n",
       "        vertical-align: top;\n",
       "    }\n",
       "\n",
       "    .dataframe thead th {\n",
       "        text-align: right;\n",
       "    }\n",
       "</style>\n",
       "<table border=\"1\" class=\"dataframe\">\n",
       "  <thead>\n",
       "    <tr style=\"text-align: right;\">\n",
       "      <th></th>\n",
       "      <th>X</th>\n",
       "      <th>Y</th>\n",
       "      <th>RowID</th>\n",
       "      <th>CaseNumber</th>\n",
       "      <th>CreatedDate</th>\n",
       "      <th>ModifiedDate</th>\n",
       "      <th>LastName</th>\n",
       "      <th>FirstName</th>\n",
       "      <th>MiddleName</th>\n",
       "      <th>DateOfBirth</th>\n",
       "      <th>Gender</th>\n",
       "      <th>Race</th>\n",
       "      <th>FullAddress</th>\n",
       "      <th>City</th>\n",
       "      <th>State</th>\n",
       "      <th>ZipCode</th>\n",
       "      <th>District</th>\n",
       "      <th>Post</th>\n",
       "      <th>Neighborhood</th>\n",
       "      <th>Latitude</th>\n",
       "      <th>Longitude</th>\n",
       "      <th>GeoLocation</th>\n",
       "      <th>Shape</th>\n",
       "    </tr>\n",
       "  </thead>\n",
       "  <tbody>\n",
       "    <tr>\n",
       "      <th>666</th>\n",
       "      <td>1430800.25</td>\n",
       "      <td>594134.6875</td>\n",
       "      <td>667</td>\n",
       "      <td>20-0072</td>\n",
       "      <td>2020-02-14</td>\n",
       "      <td>2021-08-25</td>\n",
       "      <td>Sumler</td>\n",
       "      <td>Kinnard</td>\n",
       "      <td>NaN</td>\n",
       "      <td>1995-09-05</td>\n",
       "      <td>Male</td>\n",
       "      <td>Black</td>\n",
       "      <td>517 N Rose St</td>\n",
       "      <td>Baltimore</td>\n",
       "      <td>Md</td>\n",
       "      <td>21205</td>\n",
       "      <td>Southeast</td>\n",
       "      <td>221</td>\n",
       "      <td>Mcelderry Park</td>\n",
       "      <td>39.2973</td>\n",
       "      <td>-76.5814</td>\n",
       "      <td>(39.2973,-76.5814)</td>\n",
       "      <td>NaN</td>\n",
       "    </tr>\n",
       "  </tbody>\n",
       "</table>\n",
       "</div>"
      ],
      "text/plain": [
       "              X            Y  RowID CaseNumber CreatedDate ModifiedDate LastName FirstName MiddleName DateOfBirth Gender   Race    FullAddress       City State ZipCode   District Post    Neighborhood  Latitude  Longitude         GeoLocation  Shape\n",
       "666  1430800.25  594134.6875    667    20-0072  2020-02-14   2021-08-25   Sumler   Kinnard        NaN  1995-09-05   Male  Black  517 N Rose St  Baltimore    Md   21205  Southeast  221  Mcelderry Park   39.2973   -76.5814  (39.2973,-76.5814)    NaN"
      ]
     },
     "metadata": {},
     "execution_count": 95
    }
   ],
   "metadata": {}
  },
  {
   "cell_type": "code",
   "execution_count": 96,
   "source": [
    "df.info()"
   ],
   "outputs": [
    {
     "output_type": "stream",
     "name": "stdout",
     "text": [
      "<class 'pandas.core.frame.DataFrame'>\n",
      "RangeIndex: 2748 entries, 0 to 2747\n",
      "Data columns (total 23 columns):\n",
      " #   Column        Non-Null Count  Dtype         \n",
      "---  ------        --------------  -----         \n",
      " 0   X             2530 non-null   float32       \n",
      " 1   Y             2530 non-null   float32       \n",
      " 2   RowID         2748 non-null   int64         \n",
      " 3   CaseNumber    2748 non-null   object        \n",
      " 4   CreatedDate   2748 non-null   datetime64[ns]\n",
      " 5   ModifiedDate  2748 non-null   datetime64[ns]\n",
      " 6   LastName      2748 non-null   object        \n",
      " 7   FirstName     2748 non-null   object        \n",
      " 8   MiddleName    399 non-null    object        \n",
      " 9   DateOfBirth   2747 non-null   datetime64[ns]\n",
      " 10  Gender        2748 non-null   object        \n",
      " 11  Race          2748 non-null   object        \n",
      " 12  FullAddress   2530 non-null   object        \n",
      " 13  City          2530 non-null   object        \n",
      " 14  State         2530 non-null   object        \n",
      " 15  ZipCode       2527 non-null   object        \n",
      " 16  District      2260 non-null   object        \n",
      " 17  Post          2260 non-null   object        \n",
      " 18  Neighborhood  2260 non-null   object        \n",
      " 19  Latitude      2530 non-null   float64       \n",
      " 20  Longitude     2530 non-null   float64       \n",
      " 21  GeoLocation   2748 non-null   object        \n",
      " 22  Shape         0 non-null      float64       \n",
      "dtypes: datetime64[ns](3), float32(2), float64(3), int64(1), object(14)\n",
      "memory usage: 472.4+ KB\n"
     ]
    }
   ],
   "metadata": {}
  },
  {
   "cell_type": "code",
   "execution_count": 97,
   "source": [
    "from dateutil.relativedelta import relativedelta\n",
    "from datetime import date"
   ],
   "outputs": [],
   "metadata": {}
  },
  {
   "cell_type": "code",
   "execution_count": 98,
   "source": [
    "df['age']=df['CreatedDate']-df['DateOfBirth']\n",
    "df['Age'] = df['age']/np.timedelta64(1,'Y')\n",
    "df.sample()"
   ],
   "outputs": [
    {
     "output_type": "execute_result",
     "data": {
      "text/html": [
       "<div>\n",
       "<style scoped>\n",
       "    .dataframe tbody tr th:only-of-type {\n",
       "        vertical-align: middle;\n",
       "    }\n",
       "\n",
       "    .dataframe tbody tr th {\n",
       "        vertical-align: top;\n",
       "    }\n",
       "\n",
       "    .dataframe thead th {\n",
       "        text-align: right;\n",
       "    }\n",
       "</style>\n",
       "<table border=\"1\" class=\"dataframe\">\n",
       "  <thead>\n",
       "    <tr style=\"text-align: right;\">\n",
       "      <th></th>\n",
       "      <th>X</th>\n",
       "      <th>Y</th>\n",
       "      <th>RowID</th>\n",
       "      <th>CaseNumber</th>\n",
       "      <th>CreatedDate</th>\n",
       "      <th>ModifiedDate</th>\n",
       "      <th>LastName</th>\n",
       "      <th>FirstName</th>\n",
       "      <th>MiddleName</th>\n",
       "      <th>DateOfBirth</th>\n",
       "      <th>Gender</th>\n",
       "      <th>Race</th>\n",
       "      <th>FullAddress</th>\n",
       "      <th>City</th>\n",
       "      <th>State</th>\n",
       "      <th>ZipCode</th>\n",
       "      <th>District</th>\n",
       "      <th>Post</th>\n",
       "      <th>Neighborhood</th>\n",
       "      <th>Latitude</th>\n",
       "      <th>Longitude</th>\n",
       "      <th>GeoLocation</th>\n",
       "      <th>Shape</th>\n",
       "      <th>age</th>\n",
       "      <th>Age</th>\n",
       "    </tr>\n",
       "  </thead>\n",
       "  <tbody>\n",
       "    <tr>\n",
       "      <th>1393</th>\n",
       "      <td>1433177.75</td>\n",
       "      <td>594109.3125</td>\n",
       "      <td>1394</td>\n",
       "      <td>19-0016</td>\n",
       "      <td>2019-01-15</td>\n",
       "      <td>2021-05-04</td>\n",
       "      <td>Paige</td>\n",
       "      <td>Diwaun</td>\n",
       "      <td>NaN</td>\n",
       "      <td>1987-10-19</td>\n",
       "      <td>Male</td>\n",
       "      <td>Black</td>\n",
       "      <td>504 N Robinson St</td>\n",
       "      <td>Baltimore</td>\n",
       "      <td>Md</td>\n",
       "      <td>21205</td>\n",
       "      <td>Southeast</td>\n",
       "      <td>224</td>\n",
       "      <td>Ellwood Park/Monument</td>\n",
       "      <td>39.2972</td>\n",
       "      <td>-76.573</td>\n",
       "      <td>(39.2972,-76.573)</td>\n",
       "      <td>NaN</td>\n",
       "      <td>11411 days</td>\n",
       "      <td>31.242257</td>\n",
       "    </tr>\n",
       "  </tbody>\n",
       "</table>\n",
       "</div>"
      ],
      "text/plain": [
       "               X            Y  RowID CaseNumber CreatedDate ModifiedDate LastName FirstName MiddleName DateOfBirth Gender   Race        FullAddress       City State ZipCode   District Post           Neighborhood  Latitude  Longitude        GeoLocation  Shape        age        Age\n",
       "1393  1433177.75  594109.3125   1394    19-0016  2019-01-15   2021-05-04    Paige    Diwaun        NaN  1987-10-19   Male  Black  504 N Robinson St  Baltimore    Md   21205  Southeast  224  Ellwood Park/Monument   39.2972    -76.573  (39.2972,-76.573)    NaN 11411 days  31.242257"
      ]
     },
     "metadata": {},
     "execution_count": 98
    }
   ],
   "metadata": {}
  },
  {
   "cell_type": "code",
   "execution_count": null,
   "source": [],
   "outputs": [],
   "metadata": {}
  },
  {
   "cell_type": "code",
   "execution_count": 99,
   "source": [
    "df['Age'].isin([0]).sum()"
   ],
   "outputs": [
    {
     "output_type": "execute_result",
     "data": {
      "text/plain": [
       "0"
      ]
     },
     "metadata": {},
     "execution_count": 99
    }
   ],
   "metadata": {}
  },
  {
   "cell_type": "code",
   "execution_count": 100,
   "source": [
    "null_vals= 0\n",
    "for x in df['Age']:\n",
    "    if x == None:\n",
    "        # print(\"True\")\n",
    "        null_vals += 1\n",
    "\n",
    "\n",
    "null_vals"
   ],
   "outputs": [
    {
     "output_type": "execute_result",
     "data": {
      "text/plain": [
       "0"
      ]
     },
     "metadata": {},
     "execution_count": 100
    }
   ],
   "metadata": {}
  },
  {
   "cell_type": "code",
   "execution_count": 101,
   "source": [
    "df['Age'].mean()"
   ],
   "outputs": [
    {
     "output_type": "execute_result",
     "data": {
      "text/plain": [
       "28.384672316497745"
      ]
     },
     "metadata": {},
     "execution_count": 101
    }
   ],
   "metadata": {}
  },
  {
   "cell_type": "code",
   "execution_count": 102,
   "source": [
    "df['Age'].median()"
   ],
   "outputs": [
    {
     "output_type": "execute_result",
     "data": {
      "text/plain": [
       "26.240100754977856"
      ]
     },
     "metadata": {},
     "execution_count": 102
    }
   ],
   "metadata": {}
  },
  {
   "cell_type": "code",
   "execution_count": 103,
   "source": [
    "df['Race'].value_counts()\n"
   ],
   "outputs": [
    {
     "output_type": "execute_result",
     "data": {
      "text/plain": [
       "Black      2653\n",
       "White        71\n",
       "Unknown      19\n",
       "Asian         4\n",
       "Indian        1\n",
       "Name: Race, dtype: int64"
      ]
     },
     "metadata": {},
     "execution_count": 103
    }
   ],
   "metadata": {}
  },
  {
   "cell_type": "code",
   "execution_count": 104,
   "source": [
    "df['Gender'].value_counts()"
   ],
   "outputs": [
    {
     "output_type": "execute_result",
     "data": {
      "text/plain": [
       "Male      2688\n",
       "Female      60\n",
       "Name: Gender, dtype: int64"
      ]
     },
     "metadata": {},
     "execution_count": 104
    }
   ],
   "metadata": {}
  },
  {
   "cell_type": "code",
   "execution_count": 105,
   "source": [
    "df['Age'].min(axis = 0)"
   ],
   "outputs": [
    {
     "output_type": "execute_result",
     "data": {
      "text/plain": [
       "2.299841885870346"
      ]
     },
     "metadata": {},
     "execution_count": 105
    }
   ],
   "metadata": {}
  },
  {
   "cell_type": "code",
   "execution_count": 106,
   "source": [
    "df['Age'].max(axis = 0)"
   ],
   "outputs": [
    {
     "output_type": "execute_result",
     "data": {
      "text/plain": [
       "80.28364716592401"
      ]
     },
     "metadata": {},
     "execution_count": 106
    }
   ],
   "metadata": {}
  },
  {
   "cell_type": "code",
   "execution_count": 107,
   "source": [
    "df.sort_values('Age', axis=0, ascending=True)"
   ],
   "outputs": [
    {
     "output_type": "execute_result",
     "data": {
      "text/html": [
       "<div>\n",
       "<style scoped>\n",
       "    .dataframe tbody tr th:only-of-type {\n",
       "        vertical-align: middle;\n",
       "    }\n",
       "\n",
       "    .dataframe tbody tr th {\n",
       "        vertical-align: top;\n",
       "    }\n",
       "\n",
       "    .dataframe thead th {\n",
       "        text-align: right;\n",
       "    }\n",
       "</style>\n",
       "<table border=\"1\" class=\"dataframe\">\n",
       "  <thead>\n",
       "    <tr style=\"text-align: right;\">\n",
       "      <th></th>\n",
       "      <th>X</th>\n",
       "      <th>Y</th>\n",
       "      <th>RowID</th>\n",
       "      <th>CaseNumber</th>\n",
       "      <th>CreatedDate</th>\n",
       "      <th>ModifiedDate</th>\n",
       "      <th>LastName</th>\n",
       "      <th>FirstName</th>\n",
       "      <th>MiddleName</th>\n",
       "      <th>DateOfBirth</th>\n",
       "      <th>Gender</th>\n",
       "      <th>Race</th>\n",
       "      <th>FullAddress</th>\n",
       "      <th>City</th>\n",
       "      <th>State</th>\n",
       "      <th>ZipCode</th>\n",
       "      <th>District</th>\n",
       "      <th>Post</th>\n",
       "      <th>Neighborhood</th>\n",
       "      <th>Latitude</th>\n",
       "      <th>Longitude</th>\n",
       "      <th>GeoLocation</th>\n",
       "      <th>Shape</th>\n",
       "      <th>age</th>\n",
       "      <th>Age</th>\n",
       "    </tr>\n",
       "  </thead>\n",
       "  <tbody>\n",
       "    <tr>\n",
       "      <th>206</th>\n",
       "      <td>1411806.250</td>\n",
       "      <td>595220.1250</td>\n",
       "      <td>207</td>\n",
       "      <td>21-0171</td>\n",
       "      <td>2021-06-04</td>\n",
       "      <td>2021-06-04</td>\n",
       "      <td>Chance</td>\n",
       "      <td>Brion</td>\n",
       "      <td>NaN</td>\n",
       "      <td>2019-02-15</td>\n",
       "      <td>Male</td>\n",
       "      <td>Black</td>\n",
       "      <td>1022 Appleton St</td>\n",
       "      <td>Baltimore</td>\n",
       "      <td>Md</td>\n",
       "      <td>21217</td>\n",
       "      <td>Western</td>\n",
       "      <td>722</td>\n",
       "      <td>Midtown-Edmondson</td>\n",
       "      <td>39.3005</td>\n",
       "      <td>-76.6485</td>\n",
       "      <td>(39.3005,-76.6485)</td>\n",
       "      <td>NaN</td>\n",
       "      <td>840 days</td>\n",
       "      <td>2.299842</td>\n",
       "    </tr>\n",
       "    <tr>\n",
       "      <th>2710</th>\n",
       "      <td>1426328.375</td>\n",
       "      <td>568545.4375</td>\n",
       "      <td>2711</td>\n",
       "      <td>09-0260</td>\n",
       "      <td>2009-08-13</td>\n",
       "      <td>2021-08-23</td>\n",
       "      <td>Dorsey</td>\n",
       "      <td>Raheem</td>\n",
       "      <td>Jabar</td>\n",
       "      <td>1994-06-02</td>\n",
       "      <td>Male</td>\n",
       "      <td>Black</td>\n",
       "      <td>1107 Seaboard Ct</td>\n",
       "      <td>Baltimore</td>\n",
       "      <td>Md</td>\n",
       "      <td>21225</td>\n",
       "      <td>Southern</td>\n",
       "      <td>913</td>\n",
       "      <td>Brooklyn</td>\n",
       "      <td>39.2271</td>\n",
       "      <td>-76.5976</td>\n",
       "      <td>(39.2271,-76.5976)</td>\n",
       "      <td>NaN</td>\n",
       "      <td>5551 days</td>\n",
       "      <td>15.198122</td>\n",
       "    </tr>\n",
       "    <tr>\n",
       "      <th>2624</th>\n",
       "      <td>1409505.750</td>\n",
       "      <td>589857.1250</td>\n",
       "      <td>2625</td>\n",
       "      <td>11-0487</td>\n",
       "      <td>2011-11-21</td>\n",
       "      <td>2020-12-07</td>\n",
       "      <td>Holt</td>\n",
       "      <td>Arteesha</td>\n",
       "      <td>NaN</td>\n",
       "      <td>1996-04-23</td>\n",
       "      <td>Female</td>\n",
       "      <td>Black</td>\n",
       "      <td>2526 W Lombard St</td>\n",
       "      <td>Baltimore</td>\n",
       "      <td>Md</td>\n",
       "      <td>21223</td>\n",
       "      <td>Southwest</td>\n",
       "      <td>835</td>\n",
       "      <td>Shipley Hill</td>\n",
       "      <td>39.2858</td>\n",
       "      <td>-76.6567</td>\n",
       "      <td>(39.2858,-76.6567)</td>\n",
       "      <td>NaN</td>\n",
       "      <td>5690 days</td>\n",
       "      <td>15.578691</td>\n",
       "    </tr>\n",
       "    <tr>\n",
       "      <th>2679</th>\n",
       "      <td>1426750.125</td>\n",
       "      <td>594844.9375</td>\n",
       "      <td>2680</td>\n",
       "      <td>10-0354</td>\n",
       "      <td>2010-08-31</td>\n",
       "      <td>2020-12-07</td>\n",
       "      <td>Hall</td>\n",
       "      <td>Anthony</td>\n",
       "      <td>NaN</td>\n",
       "      <td>1994-07-07</td>\n",
       "      <td>Male</td>\n",
       "      <td>Black</td>\n",
       "      <td>1621 E Madison St</td>\n",
       "      <td>Baltimore</td>\n",
       "      <td>Md</td>\n",
       "      <td>21287</td>\n",
       "      <td>Eastern</td>\n",
       "      <td>323</td>\n",
       "      <td>Gay Street</td>\n",
       "      <td>39.2993</td>\n",
       "      <td>-76.5957</td>\n",
       "      <td>(39.2993,-76.5957)</td>\n",
       "      <td>NaN</td>\n",
       "      <td>5899 days</td>\n",
       "      <td>16.150913</td>\n",
       "    </tr>\n",
       "    <tr>\n",
       "      <th>2361</th>\n",
       "      <td>1426193.000</td>\n",
       "      <td>592839.1875</td>\n",
       "      <td>2362</td>\n",
       "      <td>15-0040</td>\n",
       "      <td>2015-01-22</td>\n",
       "      <td>2021-05-04</td>\n",
       "      <td>Moore</td>\n",
       "      <td>Torray</td>\n",
       "      <td>NaN</td>\n",
       "      <td>1998-11-11</td>\n",
       "      <td>Male</td>\n",
       "      <td>Black</td>\n",
       "      <td>210 N Spring Ct</td>\n",
       "      <td>Baltimore</td>\n",
       "      <td>Md</td>\n",
       "      <td>21231</td>\n",
       "      <td>Southeast</td>\n",
       "      <td>212</td>\n",
       "      <td>Dunbar-Broadway</td>\n",
       "      <td>39.2938</td>\n",
       "      <td>-76.5977</td>\n",
       "      <td>(39.2938,-76.5977)</td>\n",
       "      <td>NaN</td>\n",
       "      <td>5916 days</td>\n",
       "      <td>16.197458</td>\n",
       "    </tr>\n",
       "    <tr>\n",
       "      <th>...</th>\n",
       "      <td>...</td>\n",
       "      <td>...</td>\n",
       "      <td>...</td>\n",
       "      <td>...</td>\n",
       "      <td>...</td>\n",
       "      <td>...</td>\n",
       "      <td>...</td>\n",
       "      <td>...</td>\n",
       "      <td>...</td>\n",
       "      <td>...</td>\n",
       "      <td>...</td>\n",
       "      <td>...</td>\n",
       "      <td>...</td>\n",
       "      <td>...</td>\n",
       "      <td>...</td>\n",
       "      <td>...</td>\n",
       "      <td>...</td>\n",
       "      <td>...</td>\n",
       "      <td>...</td>\n",
       "      <td>...</td>\n",
       "      <td>...</td>\n",
       "      <td>...</td>\n",
       "      <td>...</td>\n",
       "      <td>...</td>\n",
       "      <td>...</td>\n",
       "    </tr>\n",
       "    <tr>\n",
       "      <th>2349</th>\n",
       "      <td>1402956.375</td>\n",
       "      <td>592965.7500</td>\n",
       "      <td>2350</td>\n",
       "      <td>15-0119</td>\n",
       "      <td>2015-03-23</td>\n",
       "      <td>2021-08-24</td>\n",
       "      <td>Cobb</td>\n",
       "      <td>Jessie</td>\n",
       "      <td>NaN</td>\n",
       "      <td>1945-05-02</td>\n",
       "      <td>Male</td>\n",
       "      <td>Black</td>\n",
       "      <td>607 Mount Holly St</td>\n",
       "      <td>Baltimore</td>\n",
       "      <td>Md</td>\n",
       "      <td>21229</td>\n",
       "      <td>Southwest</td>\n",
       "      <td>815</td>\n",
       "      <td>Edgewood</td>\n",
       "      <td>39.2944</td>\n",
       "      <td>-76.6798</td>\n",
       "      <td>(39.2944,-76.6798)</td>\n",
       "      <td>NaN</td>\n",
       "      <td>25527 days</td>\n",
       "      <td>69.890552</td>\n",
       "    </tr>\n",
       "    <tr>\n",
       "      <th>643</th>\n",
       "      <td>NaN</td>\n",
       "      <td>NaN</td>\n",
       "      <td>644</td>\n",
       "      <td>20-0096</td>\n",
       "      <td>2020-03-02</td>\n",
       "      <td>2020-12-07</td>\n",
       "      <td>Wynne</td>\n",
       "      <td>Hardaway</td>\n",
       "      <td>NaN</td>\n",
       "      <td>1948-01-29</td>\n",
       "      <td>Male</td>\n",
       "      <td>Black</td>\n",
       "      <td>NaN</td>\n",
       "      <td>NaN</td>\n",
       "      <td>NaN</td>\n",
       "      <td>NaN</td>\n",
       "      <td>NaN</td>\n",
       "      <td>NaN</td>\n",
       "      <td>NaN</td>\n",
       "      <td>NaN</td>\n",
       "      <td>NaN</td>\n",
       "      <td>(,)</td>\n",
       "      <td>NaN</td>\n",
       "      <td>26331 days</td>\n",
       "      <td>72.091829</td>\n",
       "    </tr>\n",
       "    <tr>\n",
       "      <th>1477</th>\n",
       "      <td>NaN</td>\n",
       "      <td>NaN</td>\n",
       "      <td>1478</td>\n",
       "      <td>18-0667</td>\n",
       "      <td>2018-12-06</td>\n",
       "      <td>2020-12-07</td>\n",
       "      <td>Gomez</td>\n",
       "      <td>Irvin</td>\n",
       "      <td>NaN</td>\n",
       "      <td>1944-08-31</td>\n",
       "      <td>Male</td>\n",
       "      <td>Black</td>\n",
       "      <td>NaN</td>\n",
       "      <td>NaN</td>\n",
       "      <td>NaN</td>\n",
       "      <td>NaN</td>\n",
       "      <td>NaN</td>\n",
       "      <td>NaN</td>\n",
       "      <td>NaN</td>\n",
       "      <td>NaN</td>\n",
       "      <td>NaN</td>\n",
       "      <td>(,)</td>\n",
       "      <td>NaN</td>\n",
       "      <td>27125 days</td>\n",
       "      <td>74.265728</td>\n",
       "    </tr>\n",
       "    <tr>\n",
       "      <th>1574</th>\n",
       "      <td>1361726.875</td>\n",
       "      <td>619188.4375</td>\n",
       "      <td>1575</td>\n",
       "      <td>18-0563</td>\n",
       "      <td>2018-10-10</td>\n",
       "      <td>2021-03-30</td>\n",
       "      <td>Chavis</td>\n",
       "      <td>Gordon</td>\n",
       "      <td>NaN</td>\n",
       "      <td>1938-06-29</td>\n",
       "      <td>Male</td>\n",
       "      <td>Black</td>\n",
       "      <td>9620 Mendoza Road, Randallstown, 21133</td>\n",
       "      <td>Randallstown</td>\n",
       "      <td>Md</td>\n",
       "      <td>21133</td>\n",
       "      <td>NaN</td>\n",
       "      <td>NaN</td>\n",
       "      <td>NaN</td>\n",
       "      <td>39.3667</td>\n",
       "      <td>-76.8253</td>\n",
       "      <td>(39.3667,-76.8253)</td>\n",
       "      <td>NaN</td>\n",
       "      <td>29323 days</td>\n",
       "      <td>80.283647</td>\n",
       "    </tr>\n",
       "    <tr>\n",
       "      <th>1428</th>\n",
       "      <td>1401533.250</td>\n",
       "      <td>595291.9375</td>\n",
       "      <td>1429</td>\n",
       "      <td>18-0720</td>\n",
       "      <td>2018-12-26</td>\n",
       "      <td>2021-04-15</td>\n",
       "      <td>Jones</td>\n",
       "      <td>David</td>\n",
       "      <td>NaN</td>\n",
       "      <td>NaT</td>\n",
       "      <td>Male</td>\n",
       "      <td>Black</td>\n",
       "      <td>4119 Mountwood Rd</td>\n",
       "      <td>Baltimore</td>\n",
       "      <td>Md</td>\n",
       "      <td>21229</td>\n",
       "      <td>Southwest</td>\n",
       "      <td>815</td>\n",
       "      <td>Edmondson Village</td>\n",
       "      <td>39.3008</td>\n",
       "      <td>-76.6848</td>\n",
       "      <td>(39.3008,-76.6848)</td>\n",
       "      <td>NaN</td>\n",
       "      <td>NaT</td>\n",
       "      <td>NaN</td>\n",
       "    </tr>\n",
       "  </tbody>\n",
       "</table>\n",
       "<p>2748 rows × 25 columns</p>\n",
       "</div>"
      ],
      "text/plain": [
       "                X            Y  RowID CaseNumber CreatedDate ModifiedDate LastName FirstName MiddleName DateOfBirth  Gender   Race                             FullAddress          City State ZipCode   District Post       Neighborhood  Latitude  Longitude         GeoLocation  Shape        age        Age\n",
       "206   1411806.250  595220.1250    207    21-0171  2021-06-04   2021-06-04   Chance     Brion        NaN  2019-02-15    Male  Black                        1022 Appleton St     Baltimore    Md   21217    Western  722  Midtown-Edmondson   39.3005   -76.6485  (39.3005,-76.6485)    NaN   840 days   2.299842\n",
       "2710  1426328.375  568545.4375   2711    09-0260  2009-08-13   2021-08-23   Dorsey    Raheem      Jabar  1994-06-02    Male  Black                        1107 Seaboard Ct     Baltimore    Md   21225   Southern  913           Brooklyn   39.2271   -76.5976  (39.2271,-76.5976)    NaN  5551 days  15.198122\n",
       "2624  1409505.750  589857.1250   2625    11-0487  2011-11-21   2020-12-07     Holt  Arteesha        NaN  1996-04-23  Female  Black                       2526 W Lombard St     Baltimore    Md   21223  Southwest  835       Shipley Hill   39.2858   -76.6567  (39.2858,-76.6567)    NaN  5690 days  15.578691\n",
       "2679  1426750.125  594844.9375   2680    10-0354  2010-08-31   2020-12-07     Hall   Anthony        NaN  1994-07-07    Male  Black                       1621 E Madison St     Baltimore    Md   21287    Eastern  323         Gay Street   39.2993   -76.5957  (39.2993,-76.5957)    NaN  5899 days  16.150913\n",
       "2361  1426193.000  592839.1875   2362    15-0040  2015-01-22   2021-05-04    Moore    Torray        NaN  1998-11-11    Male  Black                         210 N Spring Ct     Baltimore    Md   21231  Southeast  212    Dunbar-Broadway   39.2938   -76.5977  (39.2938,-76.5977)    NaN  5916 days  16.197458\n",
       "...           ...          ...    ...        ...         ...          ...      ...       ...        ...         ...     ...    ...                                     ...           ...   ...     ...        ...  ...                ...       ...        ...                 ...    ...        ...        ...\n",
       "2349  1402956.375  592965.7500   2350    15-0119  2015-03-23   2021-08-24     Cobb    Jessie        NaN  1945-05-02    Male  Black                      607 Mount Holly St     Baltimore    Md   21229  Southwest  815           Edgewood   39.2944   -76.6798  (39.2944,-76.6798)    NaN 25527 days  69.890552\n",
       "643           NaN          NaN    644    20-0096  2020-03-02   2020-12-07    Wynne  Hardaway        NaN  1948-01-29    Male  Black                                     NaN           NaN   NaN     NaN        NaN  NaN                NaN       NaN        NaN                 (,)    NaN 26331 days  72.091829\n",
       "1477          NaN          NaN   1478    18-0667  2018-12-06   2020-12-07    Gomez     Irvin        NaN  1944-08-31    Male  Black                                     NaN           NaN   NaN     NaN        NaN  NaN                NaN       NaN        NaN                 (,)    NaN 27125 days  74.265728\n",
       "1574  1361726.875  619188.4375   1575    18-0563  2018-10-10   2021-03-30   Chavis    Gordon        NaN  1938-06-29    Male  Black  9620 Mendoza Road, Randallstown, 21133  Randallstown    Md   21133        NaN  NaN                NaN   39.3667   -76.8253  (39.3667,-76.8253)    NaN 29323 days  80.283647\n",
       "1428  1401533.250  595291.9375   1429    18-0720  2018-12-26   2021-04-15    Jones     David        NaN         NaT    Male  Black                       4119 Mountwood Rd     Baltimore    Md   21229  Southwest  815  Edmondson Village   39.3008   -76.6848  (39.3008,-76.6848)    NaN        NaT        NaN\n",
       "\n",
       "[2748 rows x 25 columns]"
      ]
     },
     "metadata": {},
     "execution_count": 107
    }
   ],
   "metadata": {}
  },
  {
   "cell_type": "code",
   "execution_count": 108,
   "source": [
    "import matplotlib"
   ],
   "outputs": [],
   "metadata": {}
  },
  {
   "cell_type": "code",
   "execution_count": 109,
   "source": [
    "df['year'] = pd.DatetimeIndex(df['CreatedDate']).year"
   ],
   "outputs": [],
   "metadata": {}
  },
  {
   "cell_type": "code",
   "execution_count": 110,
   "source": [
    "years_by_count=df[['RowID','year']].groupby('year').agg('count')\n"
   ],
   "outputs": [],
   "metadata": {}
  },
  {
   "cell_type": "code",
   "execution_count": 111,
   "source": [
    "df['Age']=df['Age'].apply(np.floor)\n",
    "df.Age.dtype"
   ],
   "outputs": [
    {
     "output_type": "execute_result",
     "data": {
      "text/plain": [
       "dtype('float64')"
      ]
     },
     "metadata": {},
     "execution_count": 111
    }
   ],
   "metadata": {}
  },
  {
   "cell_type": "code",
   "execution_count": 112,
   "source": [
    "df['Age']=df['Age'].astype(str).apply(lambda x: x.replace('.0',''))"
   ],
   "outputs": [],
   "metadata": {}
  },
  {
   "cell_type": "code",
   "execution_count": 113,
   "source": [
    "df['Latitude']=df['Latitude'].astype(str).apply(lambda x: x.replace('.0',''))\n",
    "df['Longitude']=df['Longitude'].astype(str).apply(lambda x: x.replace('.0',''))"
   ],
   "outputs": [],
   "metadata": {}
  },
  {
   "cell_type": "markdown",
   "source": [],
   "metadata": {}
  },
  {
   "cell_type": "code",
   "execution_count": 114,
   "source": [
    "df['coordinates'] = list(zip(df.Latitude, df.Longitude))"
   ],
   "outputs": [],
   "metadata": {}
  },
  {
   "cell_type": "code",
   "execution_count": 115,
   "source": [
    "df.sample()"
   ],
   "outputs": [
    {
     "output_type": "execute_result",
     "data": {
      "text/html": [
       "<div>\n",
       "<style scoped>\n",
       "    .dataframe tbody tr th:only-of-type {\n",
       "        vertical-align: middle;\n",
       "    }\n",
       "\n",
       "    .dataframe tbody tr th {\n",
       "        vertical-align: top;\n",
       "    }\n",
       "\n",
       "    .dataframe thead th {\n",
       "        text-align: right;\n",
       "    }\n",
       "</style>\n",
       "<table border=\"1\" class=\"dataframe\">\n",
       "  <thead>\n",
       "    <tr style=\"text-align: right;\">\n",
       "      <th></th>\n",
       "      <th>X</th>\n",
       "      <th>Y</th>\n",
       "      <th>RowID</th>\n",
       "      <th>CaseNumber</th>\n",
       "      <th>CreatedDate</th>\n",
       "      <th>ModifiedDate</th>\n",
       "      <th>LastName</th>\n",
       "      <th>FirstName</th>\n",
       "      <th>MiddleName</th>\n",
       "      <th>DateOfBirth</th>\n",
       "      <th>Gender</th>\n",
       "      <th>Race</th>\n",
       "      <th>FullAddress</th>\n",
       "      <th>City</th>\n",
       "      <th>State</th>\n",
       "      <th>ZipCode</th>\n",
       "      <th>District</th>\n",
       "      <th>Post</th>\n",
       "      <th>Neighborhood</th>\n",
       "      <th>Latitude</th>\n",
       "      <th>Longitude</th>\n",
       "      <th>GeoLocation</th>\n",
       "      <th>Shape</th>\n",
       "      <th>age</th>\n",
       "      <th>Age</th>\n",
       "      <th>year</th>\n",
       "      <th>coordinates</th>\n",
       "    </tr>\n",
       "  </thead>\n",
       "  <tbody>\n",
       "    <tr>\n",
       "      <th>320</th>\n",
       "      <td>1419700.25</td>\n",
       "      <td>575146.0625</td>\n",
       "      <td>321</td>\n",
       "      <td>21-0055</td>\n",
       "      <td>2021-02-17</td>\n",
       "      <td>2021-08-16</td>\n",
       "      <td>Webster</td>\n",
       "      <td>Christopher</td>\n",
       "      <td>NaN</td>\n",
       "      <td>2001-05-08</td>\n",
       "      <td>Male</td>\n",
       "      <td>Black</td>\n",
       "      <td>826 Seagull Ave</td>\n",
       "      <td>Baltimore</td>\n",
       "      <td>Md</td>\n",
       "      <td>21225</td>\n",
       "      <td>Southern</td>\n",
       "      <td>922</td>\n",
       "      <td>Cherry Hill</td>\n",
       "      <td>39.2453</td>\n",
       "      <td>-76.6209</td>\n",
       "      <td>(39.2453,-76.6209)</td>\n",
       "      <td>NaN</td>\n",
       "      <td>7225 days</td>\n",
       "      <td>19</td>\n",
       "      <td>2021</td>\n",
       "      <td>(39.2453, -76.6209)</td>\n",
       "    </tr>\n",
       "  </tbody>\n",
       "</table>\n",
       "</div>"
      ],
      "text/plain": [
       "              X            Y  RowID CaseNumber CreatedDate ModifiedDate LastName    FirstName MiddleName DateOfBirth Gender   Race      FullAddress       City State ZipCode  District Post Neighborhood Latitude Longitude         GeoLocation  Shape       age Age  year          coordinates\n",
       "320  1419700.25  575146.0625    321    21-0055  2021-02-17   2021-08-16  Webster  Christopher        NaN  2001-05-08   Male  Black  826 Seagull Ave  Baltimore    Md   21225  Southern  922  Cherry Hill  39.2453  -76.6209  (39.2453,-76.6209)    NaN 7225 days  19  2021  (39.2453, -76.6209)"
      ]
     },
     "metadata": {},
     "execution_count": 115
    }
   ],
   "metadata": {}
  },
  {
   "cell_type": "code",
   "execution_count": 116,
   "source": [
    "years_by_count.plot()"
   ],
   "outputs": [
    {
     "output_type": "execute_result",
     "data": {
      "text/plain": [
       "<AxesSubplot:xlabel='year'>"
      ]
     },
     "metadata": {},
     "execution_count": 116
    },
    {
     "output_type": "display_data",
     "data": {
      "image/png": "[encoded data removed]",
      "text/plain": [
       "<Figure size 432x288 with 1 Axes>"
      ]
     },
     "metadata": {
      "needs_background": "light"
     }
    }
   ],
   "metadata": {}
  },
  {
   "cell_type": "code",
   "execution_count": 117,
   "source": [
    "df.to_csv('data.csv', index=False)"
   ],
   "outputs": [],
   "metadata": {}
  },
  {
   "cell_type": "code",
   "execution_count": 118,
   "source": [
    "df.sample()"
   ],
   "outputs": [
    {
     "output_type": "execute_result",
     "data": {
      "text/html": [
       "<div>\n",
       "<style scoped>\n",
       "    .dataframe tbody tr th:only-of-type {\n",
       "        vertical-align: middle;\n",
       "    }\n",
       "\n",
       "    .dataframe tbody tr th {\n",
       "        vertical-align: top;\n",
       "    }\n",
       "\n",
       "    .dataframe thead th {\n",
       "        text-align: right;\n",
       "    }\n",
       "</style>\n",
       "<table border=\"1\" class=\"dataframe\">\n",
       "  <thead>\n",
       "    <tr style=\"text-align: right;\">\n",
       "      <th></th>\n",
       "      <th>X</th>\n",
       "      <th>Y</th>\n",
       "      <th>RowID</th>\n",
       "      <th>CaseNumber</th>\n",
       "      <th>CreatedDate</th>\n",
       "      <th>ModifiedDate</th>\n",
       "      <th>LastName</th>\n",
       "      <th>FirstName</th>\n",
       "      <th>MiddleName</th>\n",
       "      <th>DateOfBirth</th>\n",
       "      <th>Gender</th>\n",
       "      <th>Race</th>\n",
       "      <th>FullAddress</th>\n",
       "      <th>City</th>\n",
       "      <th>State</th>\n",
       "      <th>ZipCode</th>\n",
       "      <th>District</th>\n",
       "      <th>Post</th>\n",
       "      <th>Neighborhood</th>\n",
       "      <th>Latitude</th>\n",
       "      <th>Longitude</th>\n",
       "      <th>GeoLocation</th>\n",
       "      <th>Shape</th>\n",
       "      <th>age</th>\n",
       "      <th>Age</th>\n",
       "      <th>year</th>\n",
       "      <th>coordinates</th>\n",
       "    </tr>\n",
       "  </thead>\n",
       "  <tbody>\n",
       "    <tr>\n",
       "      <th>555</th>\n",
       "      <td>1404036.875</td>\n",
       "      <td>591549.0625</td>\n",
       "      <td>556</td>\n",
       "      <td>20-0186</td>\n",
       "      <td>2020-06-09</td>\n",
       "      <td>2020-12-07</td>\n",
       "      <td>Davis</td>\n",
       "      <td>Travis</td>\n",
       "      <td>NaN</td>\n",
       "      <td>1996-02-23</td>\n",
       "      <td>Male</td>\n",
       "      <td>Black</td>\n",
       "      <td>218 N Edgewood St</td>\n",
       "      <td>Baltimore</td>\n",
       "      <td>Md</td>\n",
       "      <td>21229</td>\n",
       "      <td>Southwest</td>\n",
       "      <td>824</td>\n",
       "      <td>Allendale</td>\n",
       "      <td>39.2905</td>\n",
       "      <td>-76.676</td>\n",
       "      <td>(39.2905,-76.676)</td>\n",
       "      <td>NaN</td>\n",
       "      <td>8873 days</td>\n",
       "      <td>24</td>\n",
       "      <td>2020</td>\n",
       "      <td>(39.2905, -76.676)</td>\n",
       "    </tr>\n",
       "  </tbody>\n",
       "</table>\n",
       "</div>"
      ],
      "text/plain": [
       "               X            Y  RowID CaseNumber CreatedDate ModifiedDate LastName FirstName MiddleName DateOfBirth Gender   Race        FullAddress       City State ZipCode   District Post Neighborhood Latitude Longitude        GeoLocation  Shape       age Age  year         coordinates\n",
       "555  1404036.875  591549.0625    556    20-0186  2020-06-09   2020-12-07    Davis    Travis        NaN  1996-02-23   Male  Black  218 N Edgewood St  Baltimore    Md   21229  Southwest  824    Allendale  39.2905   -76.676  (39.2905,-76.676)    NaN 8873 days  24  2020  (39.2905, -76.676)"
      ]
     },
     "metadata": {},
     "execution_count": 118
    }
   ],
   "metadata": {}
  },
  {
   "cell_type": "code",
   "execution_count": 119,
   "source": [
    "# %pip install geopandas"
   ],
   "outputs": [],
   "metadata": {}
  },
  {
   "cell_type": "code",
   "execution_count": 120,
   "source": [
    "# %pip install shapely"
   ],
   "outputs": [],
   "metadata": {}
  },
  {
   "cell_type": "code",
   "execution_count": null,
   "source": [
    "\n"
   ],
   "outputs": [],
   "metadata": {}
  },
  {
   "cell_type": "code",
   "execution_count": 122,
   "source": [
    "df.sample()"
   ],
   "outputs": [
    {
     "output_type": "execute_result",
     "data": {
      "text/html": [
       "<div>\n",
       "<style scoped>\n",
       "    .dataframe tbody tr th:only-of-type {\n",
       "        vertical-align: middle;\n",
       "    }\n",
       "\n",
       "    .dataframe tbody tr th {\n",
       "        vertical-align: top;\n",
       "    }\n",
       "\n",
       "    .dataframe thead th {\n",
       "        text-align: right;\n",
       "    }\n",
       "</style>\n",
       "<table border=\"1\" class=\"dataframe\">\n",
       "  <thead>\n",
       "    <tr style=\"text-align: right;\">\n",
       "      <th></th>\n",
       "      <th>X</th>\n",
       "      <th>Y</th>\n",
       "      <th>RowID</th>\n",
       "      <th>CaseNumber</th>\n",
       "      <th>CreatedDate</th>\n",
       "      <th>ModifiedDate</th>\n",
       "      <th>LastName</th>\n",
       "      <th>FirstName</th>\n",
       "      <th>MiddleName</th>\n",
       "      <th>DateOfBirth</th>\n",
       "      <th>Gender</th>\n",
       "      <th>Race</th>\n",
       "      <th>FullAddress</th>\n",
       "      <th>City</th>\n",
       "      <th>State</th>\n",
       "      <th>ZipCode</th>\n",
       "      <th>District</th>\n",
       "      <th>Post</th>\n",
       "      <th>Neighborhood</th>\n",
       "      <th>Latitude</th>\n",
       "      <th>Longitude</th>\n",
       "      <th>GeoLocation</th>\n",
       "      <th>Shape</th>\n",
       "      <th>age</th>\n",
       "      <th>Age</th>\n",
       "      <th>year</th>\n",
       "      <th>coordinates</th>\n",
       "    </tr>\n",
       "  </thead>\n",
       "  <tbody>\n",
       "    <tr>\n",
       "      <th>1725</th>\n",
       "      <td>1403512.75</td>\n",
       "      <td>603712.6875</td>\n",
       "      <td>1726</td>\n",
       "      <td>18-0345</td>\n",
       "      <td>2018-06-18</td>\n",
       "      <td>2021-08-23</td>\n",
       "      <td>Gross</td>\n",
       "      <td>John</td>\n",
       "      <td>NaN</td>\n",
       "      <td>1991-02-10</td>\n",
       "      <td>Male</td>\n",
       "      <td>Black</td>\n",
       "      <td>3608 Springdale Ave</td>\n",
       "      <td>Baltimore</td>\n",
       "      <td>Md</td>\n",
       "      <td>21216</td>\n",
       "      <td>Northwest</td>\n",
       "      <td>623</td>\n",
       "      <td>Forest Park</td>\n",
       "      <td>39.3239</td>\n",
       "      <td>-76.6777</td>\n",
       "      <td>(39.3239,-76.6777)</td>\n",
       "      <td>NaN</td>\n",
       "      <td>9990 days</td>\n",
       "      <td>27</td>\n",
       "      <td>2018</td>\n",
       "      <td>(39.3239, -76.6777)</td>\n",
       "    </tr>\n",
       "  </tbody>\n",
       "</table>\n",
       "</div>"
      ],
      "text/plain": [
       "               X            Y  RowID CaseNumber CreatedDate ModifiedDate LastName FirstName MiddleName DateOfBirth Gender   Race          FullAddress       City State ZipCode   District Post Neighborhood Latitude Longitude         GeoLocation  Shape       age Age  year          coordinates\n",
       "1725  1403512.75  603712.6875   1726    18-0345  2018-06-18   2021-08-23    Gross      John        NaN  1991-02-10   Male  Black  3608 Springdale Ave  Baltimore    Md   21216  Northwest  623  Forest Park  39.3239  -76.6777  (39.3239,-76.6777)    NaN 9990 days  27  2018  (39.3239, -76.6777)"
      ]
     },
     "metadata": {},
     "execution_count": 122
    }
   ],
   "metadata": {}
  },
  {
   "cell_type": "code",
   "execution_count": null,
   "source": [],
   "outputs": [],
   "metadata": {}
  },
  {
   "cell_type": "code",
   "execution_count": 134,
   "source": [
    "zips_by_count=df[['District', 'RowID','ZipCode',]].groupby(['District', 'ZipCode',]).agg('count')"
   ],
   "outputs": [],
   "metadata": {}
  },
  {
   "cell_type": "code",
   "execution_count": null,
   "source": [],
   "outputs": [],
   "metadata": {}
  },
  {
   "cell_type": "code",
   "execution_count": null,
   "source": [],
   "outputs": [],
   "metadata": {}
  },
  {
   "cell_type": "code",
   "execution_count": 135,
   "source": [
    "zips_by_count.to_csv('zips_by_count.csv')"
   ],
   "outputs": [],
   "metadata": {}
  },
  {
   "cell_type": "code",
   "execution_count": null,
   "source": [
    "import pandas as pd\n",
    "import geopandas as gpd\n",
    "from shapely import wkt  \n",
    "import json  \n",
    "# geo_df= pd.read_csv(\"data.csv\", low_memory=False)\n",
    "# geo_df['geometry'] = geo_df['coordinates'].apply(wkt.loads)"
   ],
   "outputs": [],
   "metadata": {}
  },
  {
   "cell_type": "code",
   "execution_count": null,
   "source": [
    "# from: https://geoffboeing.com/2015/10/exporting-python-data-geojson/\n",
    "\n",
    "def df_to_geojson(df, properties, lat='Latitude', lon='Longitude'):\n",
    "    geojson = {'type':'FeatureCollection', 'features':[]}\n",
    "    for _, row in df.iterrows():\n",
    "        feature = {'type':'Feature',\n",
    "                   'properties':{},\n",
    "                   'geometry':{'type':'Point',\n",
    "                               'coordinates':[]}}\n",
    "        feature['geometry']['coordinates'] = [row[lon],row[lat]]\n",
    "        for prop in properties:\n",
    "            feature['properties'][prop] = row[prop]\n",
    "        geojson['features'].append(feature)\n",
    "    return geojson"
   ],
   "outputs": [],
   "metadata": {}
  },
  {
   "cell_type": "code",
   "execution_count": null,
   "source": [
    "df.sample()"
   ],
   "outputs": [
    {
     "output_type": "execute_result",
     "data": {
      "text/html": [
       "<div>\n",
       "<style scoped>\n",
       "    .dataframe tbody tr th:only-of-type {\n",
       "        vertical-align: middle;\n",
       "    }\n",
       "\n",
       "    .dataframe tbody tr th {\n",
       "        vertical-align: top;\n",
       "    }\n",
       "\n",
       "    .dataframe thead th {\n",
       "        text-align: right;\n",
       "    }\n",
       "</style>\n",
       "<table border=\"1\" class=\"dataframe\">\n",
       "  <thead>\n",
       "    <tr style=\"text-align: right;\">\n",
       "      <th></th>\n",
       "      <th>X</th>\n",
       "      <th>Y</th>\n",
       "      <th>RowID</th>\n",
       "      <th>CaseNumber</th>\n",
       "      <th>CreatedDate</th>\n",
       "      <th>ModifiedDate</th>\n",
       "      <th>LastName</th>\n",
       "      <th>FirstName</th>\n",
       "      <th>MiddleName</th>\n",
       "      <th>DateOfBirth</th>\n",
       "      <th>Gender</th>\n",
       "      <th>Race</th>\n",
       "      <th>FullAddress</th>\n",
       "      <th>City</th>\n",
       "      <th>State</th>\n",
       "      <th>ZipCode</th>\n",
       "      <th>District</th>\n",
       "      <th>Post</th>\n",
       "      <th>Neighborhood</th>\n",
       "      <th>Latitude</th>\n",
       "      <th>Longitude</th>\n",
       "      <th>GeoLocation</th>\n",
       "      <th>Shape</th>\n",
       "      <th>age</th>\n",
       "      <th>Age</th>\n",
       "      <th>year</th>\n",
       "      <th>coordinates</th>\n",
       "    </tr>\n",
       "  </thead>\n",
       "  <tbody>\n",
       "    <tr>\n",
       "      <th>1858</th>\n",
       "      <td>1411399.5</td>\n",
       "      <td>597950.375</td>\n",
       "      <td>1859</td>\n",
       "      <td>18-0043</td>\n",
       "      <td>2019-03-22</td>\n",
       "      <td>2021-03-30</td>\n",
       "      <td>Taylor</td>\n",
       "      <td>Dewan</td>\n",
       "      <td>NaN</td>\n",
       "      <td>1980-11-22</td>\n",
       "      <td>Male</td>\n",
       "      <td>Black</td>\n",
       "      <td>1724 N Payson St</td>\n",
       "      <td>Baltimore</td>\n",
       "      <td>Md</td>\n",
       "      <td>21217.0</td>\n",
       "      <td>Western</td>\n",
       "      <td>735</td>\n",
       "      <td>Easterwood</td>\n",
       "      <td>39.308</td>\n",
       "      <td>-76.6499</td>\n",
       "      <td>(39.308,-76.6499)</td>\n",
       "      <td>NaN</td>\n",
       "      <td>13999 days</td>\n",
       "      <td>38</td>\n",
       "      <td>2019</td>\n",
       "      <td>(39.308, -76.6499)</td>\n",
       "    </tr>\n",
       "  </tbody>\n",
       "</table>\n",
       "</div>"
      ],
      "text/plain": [
       "              X           Y  RowID CaseNumber CreatedDate ModifiedDate LastName FirstName MiddleName DateOfBirth Gender   Race       FullAddress       City State  ZipCode District Post Neighborhood Latitude Longitude        GeoLocation  Shape        age Age  year         coordinates\n",
       "1858  1411399.5  597950.375   1859    18-0043  2019-03-22   2021-03-30   Taylor     Dewan        NaN  1980-11-22   Male  Black  1724 N Payson St  Baltimore    Md  21217.0  Western  735   Easterwood   39.308  -76.6499  (39.308,-76.6499)    NaN 13999 days  38  2019  (39.308, -76.6499)"
      ]
     },
     "metadata": {},
     "execution_count": 134
    }
   ],
   "metadata": {}
  },
  {
   "cell_type": "code",
   "execution_count": null,
   "source": [
    "#  from: https://stackoverflow.com/questions/49243736/how-do-i-handle-object-of-type-timestamp-is-not-json-serializable-in-python\n",
    "\n",
    "def cast_for_gsheets(df):\n",
    "    # casting as string if not serializable\n",
    "    for column, dt in zip(df.columns, df.dtypes):\n",
    "        if dt.type not in [\n",
    "            np.int64,\n",
    "            np.float_,\n",
    "            np.bool_,\n",
    "        ]:\n",
    "            df.loc[:, column] = df[column].astype(str)\n",
    "    return df\n",
    "\n",
    "df = cast_for_gsheets(df)\n"
   ],
   "outputs": [],
   "metadata": {}
  },
  {
   "cell_type": "code",
   "execution_count": null,
   "source": [
    "# df.to_json('geoJson_data.json', orient=\"records\")"
   ],
   "outputs": [],
   "metadata": {}
  },
  {
   "cell_type": "code",
   "execution_count": null,
   "source": [
    "# result = df.to_json(\"geoJson_data.json\")\n",
    "# parsed = json.loads(result)\n",
    "# json.dumps(parsed, orient=\"records\", indent=4) \n",
    "# result"
   ],
   "outputs": [],
   "metadata": {}
  },
  {
   "cell_type": "code",
   "execution_count": null,
   "source": [
    "# cols = ['CaseNumber', 'CreatedDate', 'ModifiedDate', 'LastName', 'FirstName', 'DateOfBirth', 'Gender', 'Race', 'FullAddress', 'City', 'State', 'ZipCode', 'Post', 'Neighborhood', 'Age', 'year']\n",
    "# geojson = df_to_geojson(df, cols)"
   ],
   "outputs": [],
   "metadata": {}
  },
  {
   "cell_type": "code",
   "execution_count": null,
   "source": [
    "# output_filename = 'geoJson_data.js'\n",
    "# with open(output_filename, 'w') as output_file:\n",
    "#     # output_file.write('var data = ')\n",
    "#     json.dump(geojson, output_filen, indent=2, orient) \n",
    "\n"
   ],
   "outputs": [],
   "metadata": {}
  }
 ],
 "metadata": {
  "orig_nbformat": 4,
  "language_info": {
   "name": "python",
   "version": "3.8.5",
   "mimetype": "text/x-python",
   "codemirror_mode": {
    "name": "ipython",
    "version": 3
   },
   "pygments_lexer": "ipython3",
   "nbconvert_exporter": "python",
   "file_extension": ".py"
  },
  "kernelspec": {
   "name": "python3",
   "display_name": "Python 3.8.5 64-bit (conda)"
  },
  "interpreter": {
   "hash": "e7cb1b9ae4d417fedf7f40a8eec98f7cfbd359e096bd857395a915f4609834ce"
  }
 },
 "nbformat": 4,
 "nbformat_minor": 2
}